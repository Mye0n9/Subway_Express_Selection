{
 "cells": [
  {
   "cell_type": "code",
   "execution_count": 11,
   "metadata": {},
   "outputs": [],
   "source": [
    "import numpy as np\n",
    "import pandas as pd"
   ]
  },
  {
   "cell_type": "code",
   "execution_count": 12,
   "metadata": {},
   "outputs": [
    {
     "data": {
      "text/plain": [
       "0      It is the starting point on the side of the To...\n",
       "1      The station facility seems to be old, but not ...\n",
       "2      This is a general train station. Keio's Asakus...\n",
       "3      The station is crowded with office workers dur...\n",
       "4      It is easy to find the way because it is well ...\n",
       "                             ...                        \n",
       "364    I went to Tokyo Metro Toy Zay and Minami Shoto...\n",
       "365    There are all good things to live with reagent...\n",
       "366    Ceramic Line Station.It is positive to say tha...\n",
       "367    Tokyo Metro all over the world!Stamp Rally is ...\n",
       "368    Despite being a pretty large transit station, ...\n",
       "Name: review, Length: 369, dtype: object"
      ]
     },
     "execution_count": 12,
     "metadata": {},
     "output_type": "execute_result"
    }
   ],
   "source": [
    "df = pd.read_csv('dataset/combined_output_only_review.csv')\n",
    "df = df['review']\n",
    "df"
   ]
  },
  {
   "cell_type": "code",
   "execution_count": 13,
   "metadata": {},
   "outputs": [
    {
     "name": "stdout",
     "output_type": "stream",
     "text": [
      "9226\n"
     ]
    }
   ],
   "source": [
    "reviews = []\n",
    "for i in df:\n",
    "  i = i.replace('\\\\n','\\n').replace('\\ n','\\ N')\n",
    "  j = i.split('\\ N')\n",
    "  for review in j:\n",
    "    if review != ' ':\n",
    "      reviews.append(review)\n",
    "print(len(reviews))"
   ]
  },
  {
   "cell_type": "markdown",
   "metadata": {},
   "source": [
    "0 ~ 3075 (세민)  \n",
    "3076 ~ 6150 (명섭)  \n",
    "6151 ~ 9226 (정환)"
   ]
  },
  {
   "cell_type": "code",
   "execution_count": 83,
   "metadata": {},
   "outputs": [],
   "source": [
    "from skllm.config import SKLLMConfig\n",
    "\n",
    "SKLLMConfig.set_openai_key('---') # API key in case you use it\n",
    "SKLLMConfig.set_openai_org('---') # API organization in case you use it"
   ]
  },
  {
   "cell_type": "code",
   "execution_count": 85,
   "metadata": {},
   "outputs": [],
   "source": [
    "# change when you use it\n",
    "start = 3076\n",
    "end = 6151\n",
    "steps = 10"
   ]
  },
  {
   "cell_type": "code",
   "execution_count": 88,
   "metadata": {},
   "outputs": [],
   "source": [
    "from skllm.models.gpt.classification.zero_shot import ZeroShotGPTClassifier\n",
    "\n",
    "result = pd.DataFrame(columns=['review', 'label'])\n",
    "\n",
    "def sentiment_classifier_result(start,end,steps):\n",
    "\n",
    "    clf = ZeroShotGPTClassifier()\n",
    "\n",
    "    clf.fit(None,['Positive','Neutral','Negative'])\n",
    "\n",
    "    for i in range(start, end, steps):\n",
    "        tmp = reviews[i:i+steps]\n",
    "        print(tmp)\n",
    "        label = clf.predict(tmp)\n",
    "        for j in range(len(label)):\n",
    "            new_data = {'review': tmp[j], 'label': label[j]}\n",
    "            result.loc[len(result)] = new_data\n",
    "            result = result.reset_index(drop=True)\n",
    "        print(i,i+steps)\n",
    "        "
   ]
  },
  {
   "cell_type": "code",
   "execution_count": 89,
   "metadata": {},
   "outputs": [
    {
     "name": "stdout",
     "output_type": "stream",
     "text": [
      "[', and I used it because there was no other user at night, but when I went in, G.In the middle of the car spring, we fled to the corner in the center of the bathroom, so be patient and end quickly!I thought it was…Toilet body?There are a few small things around ...!I came to the stone. ', \" \\\\It doesn't look like a feeling…I think it's very important that the toilet is clean, so please ask me.So many people use it.Keikyu was also impressed by many foreigners to go to Haneda Airport.However, in the Shinkansen Sinagawa Station, foreigners ran to the Shinkansen, so I was sorry that the manners were bad.So I want to keep the manners in the station or in the car regardless of foreigners and Japanese.Please give me, but it's simpler and not crowded than Tokyo Station, but it's easy to access the JR and other subway lines.Perhaps this is the best station to transfer when you go from Osaka/Kyoto to Tokyo.It seems to be clean and tidy compared to other stations.The messy groove is an old days, but I expect it to be a clean groove of the home door someday.Like a labyrinth ?? \", \" includes a number of shops, restaurants and facilities for travelers ??????The history of Takanawa Guchi remains strong, but after the opening of Linear's business or Keikyu's reverse improvement work, I think I will feel a dramatic transformation.It is.It's a reverse buckwheat.I bought a souvenir from Euttinagawa and came back.Souvenirs are also easy to buy.There was a sword of swords.n \", ' Tokai Passenger Rail (JR Tokai) ', ' Tokai Island Shinkansen ', ' Keihin Express Train ', ' Incafection Station/This is also a large, nice and clean station.Many lines, including the Shinkansen, pass this station.The guards were polite and helpful when they needed to help get the Shinkansen ticket.JR Yamanote Line is divided into Osaki Station.However, please note that the number of toilets is absolutely lacking.The transfer is relatively used in Sinbashi, so it is relatively used. ', \"In addition, there are many reverse Naka stores in the central passage.One of the terminal stations representing Tokyo, which is transferred to Keikyu, JR Yamanote Line, Kei Hin Toku Line, Ueno Tokyo Line, Yokosuka Line, and Tokaido Shinkansen.There are also shopping facilities and restaurants, such as almost directly connected, and you may want to buy a meal or drink taken in souvenirs such as returning homes, such as returning, and other souvenirs such as Shinkansen., It takes about 5 minutes by moving from each of the opening to the opening, so it is preferable to have time to have time.The exit side has a prince hotel and related commercial facilities.You can go to Ginza or Shibuya, about 5 km away from this station.On the other hand, the previous and grooves are changing, making it seem to make a mistake at the time of transfer.After the death of Corona, it is not approaching, but it is the station of the city that is previously returned.Is there a relatively pre -facial expression near Keikyu?There is a delicious shop next to you, but there are some buckwheat shops you are standing, so if you don't know where you are ??Introducing the convenient and comfortable points of the Sinagawa Station.Tokaido Shinkansen (Tokyo-Sinosaka), Kei Hin Tahoku and Negi Si Sun (Omiya-afternoon), Tokaido Main Line (Tokyo-Atami)Many routes such as Express (afternoon-Narita), Narita Express (Omiya (Saitama) -inagawa) are crossed, so you can easily access them in excellent transportation environments.There is ATRE Sinagawa on the station, so you can enjoy shopping.There are so many parks in Sinagawa -gu, so there are many colored parks and prices of relaxation.It is equipped with support for parenting and educational support that is faithful to educational institutions.\", \"This station is also crowded and the forward crossing is also congested.Traffic is inconvenient/The station is located in the south of the Sinagawa station.The entrance is one of Daiichi Kein Kawa.Home doors are also not installed, but they usually stop outside the train, but they are rarely tasted from the platform made along the moderate curved track.Unlike the Sinagawa Station next to the north, which is crowded with a number of elevators, the elevator is rare, but one of the impressive stations at Keikyu Sun Station./ It is a frequent material in the Sinagawa Station.N Here, `` Shinagawa '' refers to the Scuba of Tokaido, and is in the northern part of Sinagawa's accommodation.It's a small station, so only the regular train stops!Because N grooves are narrow, if you are shooting, be careful.Simple station premises.You can leave the ticket gate and cross the other road.In addition, it is about 10 minutes to walk from Takana and Gucci from Sinagawa Station.Should I take this landscape according to the Work Stainless Cha Ura Work and Express?My stomach hurts all night.The next day I had to work in Sinagawa.On the train, I felt like a market would burst.The toilet of Sinagawa Station was the grace of my salvation.Clean and well -managed toilets are equipped with bidets.Praise the Lord Bidet/The Kita Sinagawa Station, located in front of Sinagawa Station, has the Yatsuyama Bridge along the streets of Tokaido.The ticket gate is only one of the uphill (sinagawa). There is no escalator and there is an elevator and a staircase.It passes through the stomach, along with Daiichi Kehin, the bus route is only 6:00 to 19:00 by Sinagawa Station ⇔ Camata Station, and the number is less than the time.The runner of the Hakone Station Exhibition passes through the station/1904 opening, the ground station of the Keikyu finals.Now there is a ticket gate outside the west, but it seems to be a terminal station at the time.I hope you do your best.There is a station that curves slowly in a slow curve, and the staggering is only fast.station.Comprehensive ride between Keikyu Line and Doden.Usually only trains stop now.The mall and the company must cross the west crossing of the station and wait for a long crossing in the morning and evening.Because it is pulled out, it may take quite a while to ride in the Kamata Kamata.It is also a place where you can enjoy acceleration and a trip to Keikyu at once.The bad thing of writing is not the cause.Since the relative home is the structure, it is necessary to use the sidewalk bridge in the station on the grooves of Kamata, Kawasaki, and Yokohama.When using the station in the east of the Kita Sinagawa Station, there is no ticket gate in the grooves of Kamata, Kawasaki, and Yokohama, as described above, so pass through the crosswords and pass through the ticket gate, passing through the ticket gate.You need to go home.It may be bothersome alone, but it is a crossing to make users the most annoying.Due to the relationship with the Sinagawa station, the train of the Keiku Line is definitely passed, and once the bar of the crossing, it may not open for a few minutes.There is no other press or underpass that will be replaced by the crossing.Therefore, a person who visits the restaurant on the east side of Kitashi Nagawa Station may think that it is efficient to walk to Sinagawa Station. \", \"You can't ride a dog (two in the worst case), and it will grow to the eye of waiting for a crossing.It may be good to use the Kitashi Nagawa Station border to take a leisurely walk, but I want to have enough time to use it when I use it.At the start of the point of the point.It seems to be named after Kitashi Nagawa.It was a good atmosphere. \"]\n"
     ]
    },
    {
     "name": "stderr",
     "output_type": "stream",
     "text": [
      "  0%|          | 0/10 [00:55<?, ?it/s]"
     ]
    },
    {
     "name": "stdout",
     "output_type": "stream",
     "text": [
      "Could not complete the operation after 3 retries: `RateLimitError :: Error code: 429 - {'error': {'message': 'Rate limit reached for gpt-3.5-turbo in organization org-V5v0kuWi27KwI8L1SsvaLARw on requests per min (RPM): Limit 3, Used 3, Requested 1. Please try again in 20s. Visit https://platform.openai.com/account/rate-limits to learn more. You can increase your rate limit by adding a payment method to your account at https://platform.openai.com/account/billing.', 'type': 'requests', 'param': None, 'code': 'rate_limit_exceeded'}}`\n"
     ]
    },
    {
     "name": "stderr",
     "output_type": "stream",
     "text": [
      "\n"
     ]
    },
    {
     "ename": "RuntimeError",
     "evalue": "Could not complete the operation after 3 retries: `RateLimitError :: Error code: 429 - {'error': {'message': 'Rate limit reached for gpt-3.5-turbo in organization org-V5v0kuWi27KwI8L1SsvaLARw on requests per min (RPM): Limit 3, Used 3, Requested 1. Please try again in 20s. Visit https://platform.openai.com/account/rate-limits to learn more. You can increase your rate limit by adding a payment method to your account at https://platform.openai.com/account/billing.', 'type': 'requests', 'param': None, 'code': 'rate_limit_exceeded'}}`",
     "output_type": "error",
     "traceback": [
      "\u001b[0;31m---------------------------------------------------------------------------\u001b[0m",
      "\u001b[0;31mRuntimeError\u001b[0m                              Traceback (most recent call last)",
      "Cell \u001b[0;32mIn[89], line 1\u001b[0m\n\u001b[0;32m----> 1\u001b[0m sentiment_result \u001b[38;5;241m=\u001b[39m \u001b[43msentiment_classifier_result\u001b[49m\u001b[43m(\u001b[49m\u001b[43mstart\u001b[49m\u001b[43m,\u001b[49m\u001b[43mend\u001b[49m\u001b[43m,\u001b[49m\u001b[43msteps\u001b[49m\u001b[43m)\u001b[49m\n\u001b[1;32m      2\u001b[0m sentiment_result\n",
      "Cell \u001b[0;32mIn[88], line 14\u001b[0m, in \u001b[0;36msentiment_classifier_result\u001b[0;34m(start, end, steps)\u001b[0m\n\u001b[1;32m     12\u001b[0m tmp \u001b[38;5;241m=\u001b[39m reviews[i:i\u001b[38;5;241m+\u001b[39msteps]\n\u001b[1;32m     13\u001b[0m \u001b[38;5;28mprint\u001b[39m(tmp)\n\u001b[0;32m---> 14\u001b[0m label \u001b[38;5;241m=\u001b[39m \u001b[43mclf\u001b[49m\u001b[38;5;241;43m.\u001b[39;49m\u001b[43mpredict\u001b[49m\u001b[43m(\u001b[49m\u001b[43mtmp\u001b[49m\u001b[43m)\u001b[49m\n\u001b[1;32m     15\u001b[0m \u001b[38;5;28;01mfor\u001b[39;00m j \u001b[38;5;129;01min\u001b[39;00m \u001b[38;5;28mrange\u001b[39m(\u001b[38;5;28mlen\u001b[39m(label)):\n\u001b[1;32m     16\u001b[0m     new_data \u001b[38;5;241m=\u001b[39m {\u001b[38;5;124m'\u001b[39m\u001b[38;5;124mreview\u001b[39m\u001b[38;5;124m'\u001b[39m: tmp[j], \u001b[38;5;124m'\u001b[39m\u001b[38;5;124mlabel\u001b[39m\u001b[38;5;124m'\u001b[39m: label[j]}\n",
      "File \u001b[0;32m~/miniconda3/envs/URP/lib/python3.9/site-packages/skllm/models/_base/classifier.py:230\u001b[0m, in \u001b[0;36mBaseClassifier.predict\u001b[0;34m(self, X)\u001b[0m\n\u001b[1;32m    228\u001b[0m predictions \u001b[38;5;241m=\u001b[39m []\n\u001b[1;32m    229\u001b[0m \u001b[38;5;28;01mfor\u001b[39;00m i \u001b[38;5;129;01min\u001b[39;00m tqdm(\u001b[38;5;28mrange\u001b[39m(\u001b[38;5;28mlen\u001b[39m(X))):\n\u001b[0;32m--> 230\u001b[0m     predictions\u001b[38;5;241m.\u001b[39mappend(\u001b[38;5;28;43mself\u001b[39;49m\u001b[38;5;241;43m.\u001b[39;49m\u001b[43m_predict_single\u001b[49m\u001b[43m(\u001b[49m\u001b[43mX\u001b[49m\u001b[43m[\u001b[49m\u001b[43mi\u001b[49m\u001b[43m]\u001b[49m\u001b[43m)\u001b[49m)\n\u001b[1;32m    231\u001b[0m \u001b[38;5;28;01mreturn\u001b[39;00m predictions\n",
      "File \u001b[0;32m~/miniconda3/envs/URP/lib/python3.9/site-packages/skllm/models/_base/classifier.py:179\u001b[0m, in \u001b[0;36mBaseClassifier._predict_single\u001b[0;34m(self, x)\u001b[0m\n\u001b[1;32m    177\u001b[0m prompt_dict \u001b[38;5;241m=\u001b[39m \u001b[38;5;28mself\u001b[39m\u001b[38;5;241m.\u001b[39m_get_prompt(x)\n\u001b[1;32m    178\u001b[0m \u001b[38;5;66;03m# this will be inherited from the LLM\u001b[39;00m\n\u001b[0;32m--> 179\u001b[0m prediction \u001b[38;5;241m=\u001b[39m \u001b[38;5;28;43mself\u001b[39;49m\u001b[38;5;241;43m.\u001b[39;49m\u001b[43m_get_chat_completion\u001b[49m\u001b[43m(\u001b[49m\u001b[43mmodel\u001b[49m\u001b[38;5;241;43m=\u001b[39;49m\u001b[38;5;28;43mself\u001b[39;49m\u001b[38;5;241;43m.\u001b[39;49m\u001b[43mmodel\u001b[49m\u001b[43m,\u001b[49m\u001b[43m \u001b[49m\u001b[38;5;241;43m*\u001b[39;49m\u001b[38;5;241;43m*\u001b[39;49m\u001b[43mprompt_dict\u001b[49m\u001b[43m)\u001b[49m\n\u001b[1;32m    180\u001b[0m prediction \u001b[38;5;241m=\u001b[39m \u001b[38;5;28mself\u001b[39m\u001b[38;5;241m.\u001b[39m_extract_out_label(prediction)\n\u001b[1;32m    181\u001b[0m \u001b[38;5;66;03m# this will be inherited from the sl/ml mixin\u001b[39;00m\n",
      "File \u001b[0;32m~/miniconda3/envs/URP/lib/python3.9/site-packages/skllm/llm/gpt/mixin.py:136\u001b[0m, in \u001b[0;36mGPTTextCompletionMixin._get_chat_completion\u001b[0;34m(self, model, messages, system_message, **kwargs)\u001b[0m\n\u001b[1;32m    134\u001b[0m     \u001b[38;5;28;01mfor\u001b[39;00m message \u001b[38;5;129;01min\u001b[39;00m messages:\n\u001b[1;32m    135\u001b[0m         msgs\u001b[38;5;241m.\u001b[39mappend(construct_message(message[\u001b[38;5;124m\"\u001b[39m\u001b[38;5;124mrole\u001b[39m\u001b[38;5;124m\"\u001b[39m], message[\u001b[38;5;124m\"\u001b[39m\u001b[38;5;124mcontent\u001b[39m\u001b[38;5;124m\"\u001b[39m]))\n\u001b[0;32m--> 136\u001b[0m completion \u001b[38;5;241m=\u001b[39m \u001b[43mget_chat_completion\u001b[49m\u001b[43m(\u001b[49m\n\u001b[1;32m    137\u001b[0m \u001b[43m    \u001b[49m\u001b[43mmsgs\u001b[49m\u001b[43m,\u001b[49m\n\u001b[1;32m    138\u001b[0m \u001b[43m    \u001b[49m\u001b[38;5;28;43mself\u001b[39;49m\u001b[38;5;241;43m.\u001b[39;49m\u001b[43m_get_openai_key\u001b[49m\u001b[43m(\u001b[49m\u001b[43m)\u001b[49m\u001b[43m,\u001b[49m\n\u001b[1;32m    139\u001b[0m \u001b[43m    \u001b[49m\u001b[38;5;28;43mself\u001b[39;49m\u001b[38;5;241;43m.\u001b[39;49m\u001b[43m_get_openai_org\u001b[49m\u001b[43m(\u001b[49m\u001b[43m)\u001b[49m\u001b[43m,\u001b[49m\n\u001b[1;32m    140\u001b[0m \u001b[43m    \u001b[49m\u001b[43mmodel\u001b[49m\u001b[43m,\u001b[49m\n\u001b[1;32m    141\u001b[0m \u001b[43m    \u001b[49m\u001b[43mjson_response\u001b[49m\u001b[38;5;241;43m=\u001b[39;49m\u001b[38;5;28;43mself\u001b[39;49m\u001b[38;5;241;43m.\u001b[39;49m\u001b[43m_prefer_json_output\u001b[49m\u001b[43m,\u001b[49m\n\u001b[1;32m    142\u001b[0m \u001b[43m\u001b[49m\u001b[43m)\u001b[49m\n\u001b[1;32m    143\u001b[0m \u001b[38;5;28;01mreturn\u001b[39;00m completion\n",
      "File \u001b[0;32m~/miniconda3/envs/URP/lib/python3.9/site-packages/skllm/llm/gpt/completion.py:23\u001b[0m, in \u001b[0;36mget_chat_completion\u001b[0;34m(messages, openai_key, openai_org, model, json_response)\u001b[0m\n\u001b[1;32m     21\u001b[0m \u001b[38;5;28;01mif\u001b[39;00m api \u001b[38;5;241m==\u001b[39m \u001b[38;5;124m\"\u001b[39m\u001b[38;5;124mazure\u001b[39m\u001b[38;5;124m\"\u001b[39m:\n\u001b[1;32m     22\u001b[0m     model \u001b[38;5;241m=\u001b[39m model[\u001b[38;5;241m7\u001b[39m:]\n\u001b[0;32m---> 23\u001b[0m \u001b[38;5;28;01mreturn\u001b[39;00m \u001b[43m_oai_get_chat_completion\u001b[49m\u001b[43m(\u001b[49m\n\u001b[1;32m     24\u001b[0m \u001b[43m    \u001b[49m\u001b[43mmessages\u001b[49m\u001b[43m,\u001b[49m\n\u001b[1;32m     25\u001b[0m \u001b[43m    \u001b[49m\u001b[43mopenai_key\u001b[49m\u001b[43m,\u001b[49m\n\u001b[1;32m     26\u001b[0m \u001b[43m    \u001b[49m\u001b[43mopenai_org\u001b[49m\u001b[43m,\u001b[49m\n\u001b[1;32m     27\u001b[0m \u001b[43m    \u001b[49m\u001b[43mmodel\u001b[49m\u001b[43m,\u001b[49m\n\u001b[1;32m     28\u001b[0m \u001b[43m    \u001b[49m\u001b[43mapi\u001b[49m\u001b[38;5;241;43m=\u001b[39;49m\u001b[43mapi\u001b[49m\u001b[43m,\u001b[49m\n\u001b[1;32m     29\u001b[0m \u001b[43m    \u001b[49m\u001b[43mjson_response\u001b[49m\u001b[38;5;241;43m=\u001b[39;49m\u001b[43mjson_response\u001b[49m\u001b[43m,\u001b[49m\n\u001b[1;32m     30\u001b[0m \u001b[43m\u001b[49m\u001b[43m)\u001b[49m\n",
      "File \u001b[0;32m~/miniconda3/envs/URP/lib/python3.9/site-packages/skllm/utils.py:92\u001b[0m, in \u001b[0;36mretry.<locals>.decorator.<locals>.wrapper\u001b[0;34m(*args, **kwargs)\u001b[0m\n\u001b[1;32m     87\u001b[0m err_msg \u001b[38;5;241m=\u001b[39m (\n\u001b[1;32m     88\u001b[0m     \u001b[38;5;124mf\u001b[39m\u001b[38;5;124m\"\u001b[39m\u001b[38;5;124mCould not complete the operation after \u001b[39m\u001b[38;5;132;01m{\u001b[39;00mmax_retries\u001b[38;5;132;01m}\u001b[39;00m\u001b[38;5;124m retries:\u001b[39m\u001b[38;5;124m\"\u001b[39m\n\u001b[1;32m     89\u001b[0m     \u001b[38;5;124mf\u001b[39m\u001b[38;5;124m\"\u001b[39m\u001b[38;5;124m `\u001b[39m\u001b[38;5;132;01m{\u001b[39;00merror_type\u001b[38;5;132;01m}\u001b[39;00m\u001b[38;5;124m :: \u001b[39m\u001b[38;5;132;01m{\u001b[39;00merror_msg\u001b[38;5;132;01m}\u001b[39;00m\u001b[38;5;124m`\u001b[39m\u001b[38;5;124m\"\u001b[39m\n\u001b[1;32m     90\u001b[0m )\n\u001b[1;32m     91\u001b[0m \u001b[38;5;28mprint\u001b[39m(err_msg)\n\u001b[0;32m---> 92\u001b[0m \u001b[38;5;28;01mraise\u001b[39;00m \u001b[38;5;167;01mRuntimeError\u001b[39;00m(err_msg)\n",
      "\u001b[0;31mRuntimeError\u001b[0m: Could not complete the operation after 3 retries: `RateLimitError :: Error code: 429 - {'error': {'message': 'Rate limit reached for gpt-3.5-turbo in organization org-V5v0kuWi27KwI8L1SsvaLARw on requests per min (RPM): Limit 3, Used 3, Requested 1. Please try again in 20s. Visit https://platform.openai.com/account/rate-limits to learn more. You can increase your rate limit by adding a payment method to your account at https://platform.openai.com/account/billing.', 'type': 'requests', 'param': None, 'code': 'rate_limit_exceeded'}}`"
     ]
    }
   ],
   "source": [
    "sentiment_result = sentiment_classifier_result(start,end,steps)\n",
    "sentiment_result"
   ]
  },
  {
   "cell_type": "code",
   "execution_count": null,
   "metadata": {},
   "outputs": [],
   "source": []
  }
 ],
 "metadata": {
  "kernelspec": {
   "display_name": "URP",
   "language": "python",
   "name": "python3"
  },
  "language_info": {
   "codemirror_mode": {
    "name": "ipython",
    "version": 3
   },
   "file_extension": ".py",
   "mimetype": "text/x-python",
   "name": "python",
   "nbconvert_exporter": "python",
   "pygments_lexer": "ipython3",
   "version": "3.9.16"
  }
 },
 "nbformat": 4,
 "nbformat_minor": 2
}
